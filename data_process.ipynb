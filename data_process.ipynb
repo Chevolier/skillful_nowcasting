{
 "cells": [
  {
   "cell_type": "markdown",
   "id": "23ca3ba8-9499-48ab-a473-aa90d4f3f657",
   "metadata": {},
   "source": [
    "# load raw radar data"
   ]
  },
  {
   "cell_type": "code",
   "execution_count": 1,
   "id": "0877207e-0fc0-47c1-8741-d2499e95d778",
   "metadata": {
    "scrolled": true,
    "tags": []
   },
   "outputs": [
    {
     "name": "stdout",
     "output_type": "stream",
     "text": [
      "number of files: 7223\n",
      "before sort: \n",
      " ['data/zuimei-radar/20240314/Z_RADA_C_BABJ_20240313175414_P_ACHN.QREF.20240313.174800.bin.zip', 'data/zuimei-radar/20240314/Z_RADA_C_BABJ_20240314143014_P_ACHN.QREF.20240314.142400.bin.zip', 'data/zuimei-radar/20240314/Z_RADA_C_BABJ_20240314141214_P_ACHN.QREF.20240314.140600.bin.zip', 'data/zuimei-radar/20240314/Z_RADA_C_BABJ_20240314094813_P_ACHN.QREF.20240314.094200.bin.zip', 'data/zuimei-radar/20240314/Z_RADA_C_BABJ_20240314050015_P_ACHN.QREF.20240314.045400.bin.zip']\n",
      "after sort: \n",
      " ['data/zuimei-radar/20240301/Z_RADA_C_BABJ_20240229160014_P_ACHN.QREF.20240229.155400.bin.zip', 'data/zuimei-radar/20240301/Z_RADA_C_BABJ_20240229160614_P_ACHN.QREF.20240229.160000.bin.zip', 'data/zuimei-radar/20240301/Z_RADA_C_BABJ_20240229161214_P_ACHN.QREF.20240229.160600.bin.zip', 'data/zuimei-radar/20240301/Z_RADA_C_BABJ_20240229161814_P_ACHN.QREF.20240229.161200.bin.zip', 'data/zuimei-radar/20240301/Z_RADA_C_BABJ_20240229162415_P_ACHN.QREF.20240229.161800.bin.zip']\n",
      "data/zuimei-radar/20240325/Z_RADA_C_BABJ_20240325024911_P_ACHN.QREF.20240325.024200.bin.zip\n",
      "data/zuimei-radar/20240325/Z_RADA_C_BABJ_20240325025540_P_ACHN.QREF.20240325.024800.bin.zip\n",
      "data/zuimei-radar/20240325/Z_RADA_C_BABJ_20240325030123_P_ACHN.QREF.20240325.025400.bin.zip\n",
      "data/zuimei-radar/20240325/Z_RADA_C_BABJ_20240325030710_P_ACHN.QREF.20240325.030000.bin.zip\n",
      "data/zuimei-radar/20240325/Z_RADA_C_BABJ_20240325033710_P_ACHN.QREF.20240325.033000.bin.zip\n",
      "data/zuimei-radar/20240325/Z_RADA_C_BABJ_20240325034337_P_ACHN.QREF.20240325.033600.bin.zip\n",
      "data/zuimei-radar/20240325/Z_RADA_C_BABJ_20240325035503_P_ACHN.QREF.20240325.034800.bin.zip\n",
      "data/zuimei-radar/20240325/Z_RADA_C_BABJ_20240325040107_P_ACHN.QREF.20240325.035400.bin.zip\n",
      "data/zuimei-radar/20240325/Z_RADA_C_BABJ_20240325040809_P_ACHN.QREF.20240325.040000.bin.zip\n",
      "Periods of consecutive file paths: 142\n",
      "<class 'numpy.ndarray'> (4200, 6200)\n"
     ]
    }
   ],
   "source": [
    "import numpy as np\n",
    "import zipfile\n",
    "import os\n",
    "import re\n",
    "from functools import cmp_to_key\n",
    "from datetime import datetime, timedelta\n",
    "import tqdm\n",
    "\n",
    "data_dir = \"data/zuimei-radar\"\n",
    "\n",
    "def remove_invalid_zips(directory):\n",
    "    file_paths = []\n",
    "    for root, dirs, files in os.walk(directory):\n",
    "        for file in files:\n",
    "            if file.endswith('.zip'):\n",
    "                file_path = os.path.join(root, file)\n",
    "                file_paths.append(file_path)\n",
    "                \n",
    "                try:\n",
    "                    with zipfile.ZipFile(file_path, 'r') as zip_file:\n",
    "                        # Check if the ZIP file is complete\n",
    "                        bad_file = zip_file.testzip()\n",
    "                        if bad_file is None:\n",
    "                            # The ZIP file is complete\n",
    "                            file_paths.append(file_path)\n",
    "                        else:\n",
    "                            print(f\"Warning: '{file_path}' is a corrupted ZIP file.\")\n",
    "                            os.remove(file_path)\n",
    "                            print(f\"The file {file_path} has been removed.\") \n",
    "                except zipfile.BadZipFile:\n",
    "                    print(f\"Warning: '{file_path}' is not a valid ZIP file.\")\n",
    "                    os.remove(file_path)\n",
    "                    print(f\"The file {file_path} has been removed.\") \n",
    "                    \n",
    "    return file_paths\n",
    "\n",
    "def get_file_paths(directory):\n",
    "    file_paths = []\n",
    "    for root, dirs, files in os.walk(directory):\n",
    "        for file in files:\n",
    "            if file.endswith('.zip'):\n",
    "                file_path = os.path.join(root, file)\n",
    "                file_paths.append(file_path)\n",
    "                \n",
    "                # try:\n",
    "                #     with zipfile.ZipFile(file_path, 'r') as zip_file:\n",
    "                #         # Check if the ZIP file is complete\n",
    "                #         bad_file = zip_file.testzip()\n",
    "                #         if bad_file is None:\n",
    "                #             # The ZIP file is complete\n",
    "                #             file_paths.append(file_path)\n",
    "                #         else:\n",
    "                #             print(f\"Warning: '{file_path}' is a corrupted ZIP file.\")\n",
    "                # except zipfile.BadZipFile:\n",
    "                #     print(f\"Warning: '{file_path}' is not a valid ZIP file.\")\n",
    "                    \n",
    "    return file_paths\n",
    "\n",
    "\n",
    "def sort_key(file_path):\n",
    "    match = re.search(r'BABJ_(\\d+)_P', file_path)\n",
    "    if match:\n",
    "        return int(match.group(1))\n",
    "    else:\n",
    "        return float('inf')\n",
    "\n",
    "# Example usage\n",
    "\n",
    "# remove_invalid_zips(data_dir)\n",
    "\n",
    "file_paths = get_file_paths(data_dir)\n",
    "print(f\"number of files: {len(file_paths)}\")\n",
    "print(\"before sort: \\n\", file_paths[:5])\n",
    "\n",
    "file_paths.sort(key=cmp_to_key(lambda x, y: (sort_key(x) > sort_key(y)) - (sort_key(x) < sort_key(y))))\n",
    "\n",
    "print(\"after sort: \\n\", file_paths[:5])\n",
    "\n",
    "# keep only items with 6 min intervals\n",
    "file_paths_new = []\n",
    "\n",
    "for file_path in file_paths:\n",
    "    match = re.search(r'BABJ_(\\d+)_P', file_path)\n",
    "    if not match:\n",
    "        print(file_path)\n",
    "        continue\n",
    "    \n",
    "    minutes = int(match.group(1)[-4:-2])\n",
    "    if minutes % 6 == 0:\n",
    "        file_paths_new.append(file_path)\n",
    "    else:\n",
    "        print(file_path)\n",
    "    \n",
    "\n",
    "file_paths = file_paths_new\n",
    "\n",
    "# get consecutive time periods\n",
    "def get_time_from_path(file_path, return_type='datetime'):\n",
    "    match = re.search(r'BABJ_(\\d+)_P', file_path)\n",
    "    if match:\n",
    "        time_str = match.group(1)\n",
    "        if return_type == 'datetime':\n",
    "            return datetime.strptime(time_str, '%Y%m%d%H%M%S')\n",
    "        else:\n",
    "            return time_str\n",
    "    else:\n",
    "        return None\n",
    "\n",
    "times = [get_time_from_path(path) for path in file_paths]\n",
    "times.sort()\n",
    "\n",
    "periods = []\n",
    "current_period = []\n",
    "\n",
    "for i in range(len(times)):\n",
    "    current_time = times[i]\n",
    "    if i == 0 or (times[i] - times[i - 1]).total_seconds() >= 355 and (times[i] - times[i - 1]).total_seconds() <= 365:\n",
    "        current_period.append(file_paths[i])\n",
    "    else:\n",
    "        periods.append(current_period)\n",
    "        current_period = [file_paths[i]]\n",
    "\n",
    "if current_period:\n",
    "    periods.append(current_period)\n",
    "\n",
    "print(f\"Periods of consecutive file paths: {len(periods)}\")\n",
    "# for period in periods[:5]:\n",
    "#     print(period)\n",
    "\n",
    "def read_data(file_path):\n",
    "    # Open the ZIP file\n",
    "    with zipfile.ZipFile(file_path, 'r') as zip_file:\n",
    "        # Get the name of the file inside the ZIP archive\n",
    "        file_name = zip_file.namelist()[0]\n",
    "\n",
    "        # Open the file inside the ZIP archive\n",
    "        with zip_file.open(file_name) as file:\n",
    "            # Load the NumPy array from the file\n",
    "            data = np.loadtxt(file)\n",
    "    \n",
    "    return data\n",
    "\n",
    "        \n",
    "# Print the loaded NumPy array\n",
    "data = read_data(file_paths[0])\n",
    "print(type(data), data.shape)"
   ]
  },
  {
   "cell_type": "code",
   "execution_count": 2,
   "id": "31ef936b-9117-487d-b1ec-1f54f6722bd5",
   "metadata": {
    "tags": []
   },
   "outputs": [
    {
     "data": {
      "text/plain": [
       "dtype('float64')"
      ]
     },
     "execution_count": 2,
     "metadata": {},
     "output_type": "execute_result"
    }
   ],
   "source": [
    "data.dtype"
   ]
  },
  {
   "cell_type": "markdown",
   "id": "458a651f-47c4-4ae5-9e1b-35d86097eef5",
   "metadata": {},
   "source": [
    "# analyze the data"
   ]
  },
  {
   "cell_type": "code",
   "execution_count": 3,
   "id": "b7e63670-6893-4510-a212-5040e3ddabeb",
   "metadata": {
    "tags": []
   },
   "outputs": [
    {
     "data": {
      "image/png": "[encoded data removed]",
      "text/plain": [
       "<Figure size 800x600 with 1 Axes>"
      ]
     },
     "metadata": {},
     "output_type": "display_data"
    }
   ],
   "source": [
    "import matplotlib.pyplot as plt\n",
    "\n",
    "data = data[~np.isnan(data)]\n",
    "data = data[data>0]\n",
    "\n",
    "# Plot the distribution\n",
    "plt.figure(figsize=(8, 6))\n",
    "plt.hist(data, bins=100, edgecolor='black')\n",
    "plt.title('Distribution of Values in Array')\n",
    "plt.xlabel('Value')\n",
    "plt.ylabel('Count')\n",
    "plt.show()"
   ]
  },
  {
   "cell_type": "code",
   "execution_count": 4,
   "id": "c02b5efe-614b-44bf-8a9c-957066895f10",
   "metadata": {
    "tags": []
   },
   "outputs": [
    {
     "name": "stdout",
     "output_type": "stream",
     "text": [
      "142\n"
     ]
    }
   ],
   "source": [
    "print(len(periods))"
   ]
  },
  {
   "cell_type": "code",
   "execution_count": 5,
   "id": "25fd3f2a-3b89-4d61-a9c0-ebf5e9416c1d",
   "metadata": {
    "tags": []
   },
   "outputs": [
    {
     "name": "stdout",
     "output_type": "stream",
     "text": [
      "15\n",
      "[18, 4, 4, 14, 4, 29, 4, 9, 14, 8, 14, 4, 4, 4, 4, 4, 9, 4, 4, 14, 4, 9, 4, 9, 4, 14, 14, 4, 49, 4, 9, 9, 9, 14, 24, 4, 4, 4, 19, 14, 9, 4, 4, 14, 4, 4, 34, 4, 12, 6, 14, 9, 9, 3, 4, 9, 4, 14, 4, 4, 4, 4, 4, 4, 19, 4, 14, 9, 9, 9, 14, 19, 4, 4, 4, 14, 9, 9, 9, 9, 29, 4, 4, 4, 4, 9, 4, 19, 4, 9, 14, 14, 14, 14, 4, 4, 4, 4, 4, 4, 4, 14, 4, 9, 19, 14, 14, 4, 4, 9, 14, 14, 14, 14, 14, 4, 4, 39, 4, 4, 14, 4, 9, 9, 3642, 35, 1, 127, 1, 519, 1, 153, 4, 2, 2, 1, 1, 1, 632, 293, 59, 572]\n"
     ]
    }
   ],
   "source": [
    "count = sum([1 for period in periods if len(period)>=24])\n",
    "\n",
    "lens = [len(period) for period in periods if len(period)>=0]\n",
    "print(count)\n",
    "print(lens)"
   ]
  },
  {
   "cell_type": "markdown",
   "id": "eb7f1018-15c4-4641-a06a-b34859e4a7d3",
   "metadata": {},
   "source": [
    "## for each consecutive periods with length >= 24, prepeare examples"
   ]
  },
  {
   "cell_type": "code",
   "execution_count": 6,
   "id": "a5d24390-0d21-4c2a-a492-8a6ac2baa8fa",
   "metadata": {
    "scrolled": true,
    "tags": []
   },
   "outputs": [],
   "source": [
    "import numpy as np\n",
    "from tqdm import tqdm\n",
    "import time\n",
    "\n",
    "def read_data(file_path):\n",
    "    # Open the ZIP file\n",
    "    with zipfile.ZipFile(file_path, 'r') as zip_file:\n",
    "        # Get the name of the file inside the ZIP archive\n",
    "        file_name = zip_file.namelist()[0]\n",
    "\n",
    "        # Open the file inside the ZIP archive\n",
    "        with zip_file.open(file_name) as file:\n",
    "            # Load the NumPy array from the file\n",
    "            data = np.loadtxt(file)\n",
    "    \n",
    "    return data\n",
    "\n",
    "\n",
    "def read_frames(file_paths, vmin=0, vmax=75):\n",
    "    \n",
    "    frames = []\n",
    "    for file_path in file_paths:\n",
    "        try:\n",
    "            data = read_data(file_path)\n",
    "            frames.append(data)\n",
    "        except Exception as e:\n",
    "            print(f\"{e}: {file_path}\")\n",
    "    \n",
    "    frames = np.stack(frames, axis=0)\n",
    "    frames[np.isnan(frames)] = 0\n",
    "    frames[frames>vmax] = vmax\n",
    "    frames[frames<vmin] = vmin\n",
    "    frames = frames.astype(np.float32)\n",
    "    \n",
    "    return frames\n",
    "\n",
    "\n",
    "def compute_integral_image(image):\n",
    "    \"\"\"Compute the integral image of a given image.\"\"\"\n",
    "    integral_image = np.zeros_like(image)\n",
    "    rows, cols = image.shape\n",
    "    \n",
    "    # Compute the integral image\n",
    "    for i in range(rows):\n",
    "        for j in range(cols):\n",
    "            integral_image[i, j] = 1 if image[i, j] > 0 else 0\n",
    "            if i > 0:\n",
    "                integral_image[i, j] += integral_image[i-1, j]\n",
    "            if j > 0:\n",
    "                integral_image[i, j] += integral_image[i, j-1]\n",
    "            if i > 0 and j > 0:\n",
    "                integral_image[i, j] -= integral_image[i-1, j-1]\n",
    "                \n",
    "    return integral_image\n",
    "\n",
    "\n",
    "def get_window_sum(integral_image, top_left, bottom_right):\n",
    "    \"\"\"Compute the sum of pixel values in a window using the integral image.\"\"\"\n",
    "    top, left = top_left\n",
    "    bottom, right = bottom_right\n",
    "    \n",
    "    window_sum = integral_image[bottom, right]\n",
    "    if top > 0:\n",
    "        window_sum -= integral_image[top-1, right]\n",
    "    if left > 0:\n",
    "        window_sum -= integral_image[bottom, left-1]\n",
    "    if top > 0 and left > 0:\n",
    "        window_sum += integral_image[top-1, left-1]\n",
    "        \n",
    "    return window_sum\n",
    "\n",
    "\n",
    "def crop_image(image, crop_size=256, num_thr=50):\n",
    "    # Compute the integral image\n",
    "    integral_image = compute_integral_image(image)\n",
    "    \n",
    "    # Get the dimensions of the image\n",
    "    rows, cols = image.shape\n",
    "    \n",
    "    # Initialize variables to keep track of the maximum non-zero count and its position\n",
    "    max_count = -1\n",
    "    max_pos = (0, 0)\n",
    "    \n",
    "    valid_positions = []\n",
    "    # Slide the window across the integral image\n",
    "    for i in range(0, rows - crop_size + 1):\n",
    "        for j in range(0, cols - crop_size + 1):\n",
    "            # Compute the sum of pixel values in the current window\n",
    "            count = get_window_sum(integral_image, (i, j), (i+crop_size-1, j+crop_size-1))\n",
    "            \n",
    "            # Update the maximum count and its position if the current count is greater\n",
    "            if count > max_count:\n",
    "                max_count = count\n",
    "                max_pos = (i, j)\n",
    "            \n",
    "            if count > num_thr:\n",
    "                valid_positions.append((i, j))\n",
    "    \n",
    "    # Crop the image using the position with the maximum count\n",
    "    cropped_image_max_nonzero = image[max_pos[0]:max_pos[0]+crop_size, max_pos[1]:max_pos[1]+crop_size]\n",
    "    \n",
    "    # If no valid position found, raise an exception\n",
    "    if not valid_positions:\n",
    "        raise ValueError(\"No valid crop position found with the given threshold.\")\n",
    "\n",
    "    # Select a random valid position\n",
    "    random_idx = np.random.choice(len(valid_positions))\n",
    "    random_pos = valid_positions[random_idx]\n",
    "\n",
    "    # Crop the array\n",
    "    cropped_image_random = image[random_pos[0]:random_pos[0]+crop_size,\n",
    "                         random_pos[1]:random_pos[1]+crop_size]\n",
    "\n",
    "    result = {\n",
    "        \"cropped_image_max_nonzero\": cropped_image_max_nonzero,\n",
    "        \"max_pos\": max_pos,\n",
    "        \"cropped_image_random\": cropped_image_random,\n",
    "        \"random_pos\": random_pos,\n",
    "        \"valid_positions\": valid_positions\n",
    "    }\n",
    "    \n",
    "    return result\n",
    "\n",
    "\n",
    "def crop_frames(frames, crop_size=256, num_thr=100):\n",
    "    # used to crop the large frame into small frames\n",
    "    result = crop_image(frames[0], crop_size=crop_size, num_thr=num_thr)\n",
    "    \n",
    "    max_pos = result['max_pos']\n",
    "    cropped_frames_max_nonzero = frames[:,max_pos[0]:max_pos[0]+crop_size, max_pos[1]+max_pos[1]+crop_size]\n",
    "    \n",
    "    random_pos = result['random_pos']\n",
    "    cropped_frames_random= frames[:,random_pos[0]:random_pos[0]+crop_size, random_pos[1]+random_pos[1]+crop_size]\n",
    "    \n",
    "    cropped_result = {\n",
    "        \"cropped_frames_max_nonzero\": cropped_frames_max_nonzero,\n",
    "        \"max_pos\": max_pos,\n",
    "        \"cropped_frames_random\": cropped_frames_random,\n",
    "        \"random_pos\": random_pos\n",
    "    }\n",
    "    \n",
    "    return cropped_result"
   ]
  },
  {
   "cell_type": "code",
   "execution_count": null,
   "id": "f9134541-b6b4-419b-9f02-f7b1db08b062",
   "metadata": {
    "scrolled": true,
    "tags": []
   },
   "outputs": [
    {
     "name": "stderr",
     "output_type": "stream",
     "text": [
      "  0%|          | 0/142 [00:00<?, ?it/s]"
     ]
    },
    {
     "name": "stdout",
     "output_type": "stream",
     "text": [
      "Start reading 29 frames ...\n",
      "End reading 29 frames, time cost: 81.61s.\n",
      "Start croppping\n"
     ]
    },
    {
     "name": "stderr",
     "output_type": "stream",
     "text": [
      "\n",
      "  0%|          | 0/6 [00:00<?, ?it/s]\u001b[A\n",
      "100%|██████████| 6/6 [03:03<00:00, 30.63s/it] \u001b[A\n",
      "  4%|▍         | 6/142 [04:25<1:40:15, 44.23s/it]"
     ]
    },
    {
     "name": "stdout",
     "output_type": "stream",
     "text": [
      "End cropping 6 frames, time cost: 183.78415703773499s, average time cost: 30.63s\n",
      "Start reading 49 frames ...\n",
      "End reading 49 frames, time cost: 134.59s.\n",
      "Start croppping\n"
     ]
    },
    {
     "name": "stderr",
     "output_type": "stream",
     "text": [
      "\n",
      "  0%|          | 0/26 [00:00<?, ?it/s]\u001b[A\n",
      "100%|██████████| 26/26 [03:03<00:00,  7.05s/it]  \u001b[A\n",
      " 20%|██        | 29/142 [09:43<34:52, 18.52s/it] "
     ]
    },
    {
     "name": "stdout",
     "output_type": "stream",
     "text": [
      "End cropping 26 frames, time cost: 183.38623023033142s, average time cost: 7.05s\n",
      "Start reading 24 frames ...\n",
      "End reading 24 frames, time cost: 71.28s.\n",
      "Start croppping\n"
     ]
    },
    {
     "name": "stderr",
     "output_type": "stream",
     "text": [
      "\n",
      "  0%|          | 0/1 [00:00<?, ?it/s]\u001b[A\n",
      "100%|██████████| 1/1 [03:03<00:00, 183.54s/it]\u001b[A\n",
      " 25%|██▍       | 35/142 [13:58<43:15, 24.26s/it]"
     ]
    },
    {
     "name": "stdout",
     "output_type": "stream",
     "text": [
      "End cropping 1 frames, time cost: 183.58407592773438s, average time cost: 183.58s\n",
      "Start reading 34 frames ...\n",
      "End reading 34 frames, time cost: 94.19s.\n",
      "Start croppping\n"
     ]
    },
    {
     "name": "stderr",
     "output_type": "stream",
     "text": [
      "\n",
      "  0%|          | 0/11 [00:00<?, ?it/s]\u001b[A\n",
      "100%|██████████| 11/11 [03:04<00:00, 16.81s/it]\u001b[A\n",
      " 33%|███▎      | 47/142 [18:37<37:46, 23.85s/it]"
     ]
    },
    {
     "name": "stdout",
     "output_type": "stream",
     "text": [
      "End cropping 11 frames, time cost: 184.93554639816284s, average time cost: 16.81s\n",
      "Start reading 29 frames ...\n",
      "End reading 29 frames, time cost: 86.51s.\n",
      "Start croppping\n"
     ]
    },
    {
     "name": "stderr",
     "output_type": "stream",
     "text": [
      "\n",
      "  0%|          | 0/6 [00:00<?, ?it/s]\u001b[A\n",
      "100%|██████████| 6/6 [03:04<00:00, 30.76s/it] \u001b[A\n",
      " 57%|█████▋    | 81/142 [23:08<14:12, 13.98s/it]"
     ]
    },
    {
     "name": "stdout",
     "output_type": "stream",
     "text": [
      "End cropping 6 frames, time cost: 184.55476140975952s, average time cost: 30.76s\n",
      "Start reading 39 frames ...\n",
      "End reading 39 frames, time cost: 110.58s.\n",
      "Start croppping\n"
     ]
    },
    {
     "name": "stderr",
     "output_type": "stream",
     "text": [
      "\n",
      "  0%|          | 0/16 [00:00<?, ?it/s]\u001b[A\n",
      "100%|██████████| 16/16 [03:03<00:00, 11.49s/it]\u001b[A\n",
      " 83%|████████▎ | 118/142 [28:02<04:24, 11.02s/it]"
     ]
    },
    {
     "name": "stdout",
     "output_type": "stream",
     "text": [
      "End cropping 16 frames, time cost: 183.87262344360352s, average time cost: 11.49s\n",
      "Start reading 3642 frames ...\n"
     ]
    }
   ],
   "source": [
    "examples = []\n",
    "\n",
    "crop_size = 256\n",
    "num_thr = 1000 # for random cropping, ensure that the cropped area has at least this number of elements are nonzero\n",
    "\n",
    "num_periods = 30000 \n",
    "num_total_frames = 24\n",
    "\n",
    "for period in tqdm(periods[:num_periods]):\n",
    "    if len(period) < num_total_frames:\n",
    "        continue\n",
    "    \n",
    "    start_reading = time.time()\n",
    "    print(f\"Start reading {len(period)} frames ...\")\n",
    "    period_frames = read_frames(period)\n",
    "    end_reading = time.time()\n",
    "    time_cost_reading = end_reading - start_reading\n",
    "    print(f\"End reading {len(period)} frames, time cost: {time_cost_reading:.2f}s.\")\n",
    "    \n",
    "    freq_update_crop_region = 240 # change crop regions every 24 hours, 240 * 6 min\n",
    "    \n",
    "    frame_result = {\"max_pos\": (0, 0), \"valid_positions\": [(0, 0)]}\n",
    "    \n",
    "    print(\"Start croppping\")\n",
    "    num_examples = len(period)-num_total_frames+1\n",
    "    for idx in tqdm(range(num_examples)):\n",
    "        frames = period_frames[idx:idx+num_total_frames]\n",
    "        \n",
    "        if idx % freq_update_crop_region == 0:\n",
    "            frame_result = crop_image(frames[0], crop_size, num_thr)\n",
    "        \n",
    "        max_pos = frame_result['max_pos']\n",
    "        cropped_frames_max_nonzero = frames[:,max_pos[0]:max_pos[0]+crop_size, max_pos[1]:max_pos[1]+crop_size]\n",
    "\n",
    "        random_idx = np.random.choice(len(frame_result[\"valid_positions\"]))\n",
    "        random_pos = frame_result[\"valid_positions\"][random_idx]\n",
    "        cropped_frames_random= frames[:,random_pos[0]:random_pos[0]+crop_size, random_pos[1]:random_pos[1]+crop_size]\n",
    "        \n",
    "        frame_start_time = get_time_from_path(period[idx], 'str')\n",
    "        \n",
    "        cropped_result = {\n",
    "            \"cropped_frames_max_nonzero\": cropped_frames_max_nonzero,\n",
    "            \"max_pos\": max_pos,\n",
    "            \"cropped_frames_random\": cropped_frames_random,\n",
    "            \"random_pos\": random_pos,\n",
    "            \"start_time\": frame_start_time\n",
    "        }\n",
    "        \n",
    "        examples.append(cropped_result)\n",
    "    \n",
    "    end_crop = time.time()\n",
    "    time_cost_crop = end_crop - end_reading\n",
    "    print(f\"End cropping {num_examples} frames, time cost: {time_cost_crop}s, average time cost: {time_cost_crop/num_examples:.2f}s\")"
   ]
  },
  {
   "cell_type": "code",
   "execution_count": null,
   "id": "742228fb-f556-4108-9fc5-f5384811c8bd",
   "metadata": {
    "tags": []
   },
   "outputs": [],
   "source": [
    "len(examples)"
   ]
  },
  {
   "cell_type": "markdown",
   "id": "2733550d-a62a-4ac7-94ca-006ae7c30406",
   "metadata": {},
   "source": [
    "## visualize the cropped images"
   ]
  },
  {
   "cell_type": "code",
   "execution_count": null,
   "id": "15542fa4-1044-4c71-893c-007cd88f74f5",
   "metadata": {
    "tags": []
   },
   "outputs": [],
   "source": [
    "import datetime\n",
    "import os\n",
    "\n",
    "import cartopy\n",
    "import matplotlib\n",
    "import matplotlib.pyplot as plt\n",
    "from matplotlib import animation\n",
    "import numpy as np\n",
    "import shapely.geometry as sgeom\n",
    "import tensorflow as tf\n",
    "# import tensorflow_hub\n",
    "\n",
    "matplotlib.rc('animation', html='jshtml')\n",
    "\n",
    "def plot_radar_image(radar_image, vmin=0, vmax=75):\n",
    "    # Create a figure and axis\n",
    "    fig, ax = plt.subplots(figsize=(8, 6))\n",
    "\n",
    "    # Plot the data as an image\n",
    "    im = ax.imshow(radar_image, vmin=vmin, vmax=vmax, cmap='jet')  # viridis \n",
    "\n",
    "    # Add a colorbar beside the figure\n",
    "    cbar = fig.colorbar(im, ax=ax, shrink=1)\n",
    "\n",
    "    # Add a label to the colorbar\n",
    "    cbar.set_label('Radar signal strength (dbz)', rotation=270, labelpad=20)\n",
    "    # plt.imshow(cropped_frames[0, ...], vmin=0, vmax=10, cmap='jet')\n",
    "    plt.show()\n",
    "\n",
    "    \n",
    "def plot_animation(field, figsize=None, vmin=0, vmax=10, cmap=\"jet\", **imshow_args):\n",
    "    fig = plt.figure(figsize=figsize)\n",
    "    ax = plt.axes()\n",
    "    ax.set_axis_off()\n",
    "    plt.close() # Prevents extra axes being plotted below animation\n",
    "    img = ax.imshow(field[0, ..., 0], vmin=vmin, vmax=vmax, cmap=cmap, **imshow_args)\n",
    "\n",
    "    def animate(i):\n",
    "        img.set_data(field[i, ..., 0])\n",
    "        return (img,)\n",
    "\n",
    "    return animation.FuncAnimation(\n",
    "      fig, animate, frames=field.shape[0], interval=24, blit=False)\n",
    "\n",
    "\n",
    "class ExtendedOSGB(cartopy.crs.OSGB):\n",
    "    \"\"\"MET office radar data uses OSGB36 with an extended bounding box.\"\"\"\n",
    "\n",
    "    def __init__(self):\n",
    "        super().__init__(approx=False)\n",
    "\n",
    "    @property\n",
    "    def x_limits(self):\n",
    "        return (-405000, 1320000)\n",
    "\n",
    "    @property\n",
    "    def y_limits(self):\n",
    "        return (-625000, 1550000)\n",
    "    \n",
    "    @property\n",
    "    def boundary(self):\n",
    "        x0, x1 = self.x_limits\n",
    "        y0, y1 = self.y_limits\n",
    "        return sgeom.LinearRing([(x0, y0), (x0, y1), (x1, y1), (x1, y0), (x0, y0)])\n",
    "\n",
    "\n",
    "def plot_rows_on_map(rows, field_name=\"radar_frames\", timestep=0, num_rows=None,\n",
    "                     cbar_label=None, **imshow_kwargs):\n",
    "    fig = plt.figure(figsize=(10, 10))\n",
    "    axes = fig.add_subplot(1, 1, 1, projection=ExtendedOSGB())\n",
    "    if num_rows is None:\n",
    "        num_rows = next(iter(rows.values())).shape[0]\n",
    "    for b in range(num_rows):\n",
    "        extent = (rows[\"osgb_extent_left\"][b].numpy(),\n",
    "                  rows[\"osgb_extent_right\"][b].numpy(),\n",
    "                  rows[\"osgb_extent_bottom\"][b].numpy(),\n",
    "                  rows[\"osgb_extent_top\"][b].numpy())\n",
    "        im = axes.imshow(rows[field_name][b, timestep, ..., 0].numpy(),\n",
    "                    extent=extent, **imshow_kwargs)\n",
    "\n",
    "    axes.set_xlim(*axes.projection.x_limits)\n",
    "    axes.set_ylim(*axes.projection.y_limits)\n",
    "    axes.set_facecolor(\"black\")\n",
    "    axes.gridlines(alpha=0.5)\n",
    "    axes.coastlines(resolution=\"50m\", color=\"white\")\n",
    "    if cbar_label:\n",
    "        cbar = fig.colorbar(im)\n",
    "        cbar.set_label(cbar_label)\n",
    "    return fig\n",
    "\n",
    "\n",
    "def plot_animation_on_map(row):\n",
    "    fig = plt.figure(figsize=(10, 10))\n",
    "    axes = fig.add_subplot(1, 1, 1, projection=ExtendedOSGB())\n",
    "    plt.close() # Prevents extra axes being plotted below animation\n",
    "\n",
    "    axes.gridlines(alpha=0.5)\n",
    "    axes.coastlines(resolution=\"50m\", color=\"white\")\n",
    "\n",
    "    extent = (row[\"osgb_extent_left\"].numpy(),\n",
    "            row[\"osgb_extent_right\"].numpy(),\n",
    "            row[\"osgb_extent_bottom\"].numpy(),\n",
    "            row[\"osgb_extent_top\"].numpy())\n",
    "\n",
    "    img = axes.imshow(\n",
    "      row[\"radar_frames\"][0, ..., 0].numpy(),\n",
    "      extent=extent, vmin=0, vmax=15., cmap=\"jet\")\n",
    "\n",
    "    cbar = fig.colorbar(img)\n",
    "    cbar.set_label(\"Precipitation, mm/hr\")\n",
    "\n",
    "    def animate(i):\n",
    "        return img.set_data(row[\"radar_frames\"][i, ..., 0].numpy()),\n",
    "\n",
    "    return animation.FuncAnimation(\n",
    "      fig, animate, frames=row[\"radar_frames\"].shape[0],\n",
    "      interval=24, blit=False)\n",
    "\n",
    "\n",
    "def plot_mask_on_map(row):\n",
    "    fig = plt.figure(figsize=(10, 10))\n",
    "    axes = fig.add_subplot(1, 1, 1, projection=ExtendedOSGB())\n",
    "    axes.gridlines(alpha=0.5)\n",
    "    axes.coastlines(resolution=\"50m\", color=\"black\")\n",
    "\n",
    "    extent = (row[\"osgb_extent_left\"].numpy(),\n",
    "            row[\"osgb_extent_right\"].numpy(),\n",
    "            row[\"osgb_extent_bottom\"].numpy(),\n",
    "            row[\"osgb_extent_top\"].numpy())\n",
    "\n",
    "    img = axes.imshow(\n",
    "      row[\"radar_mask\"][0, ..., 0].numpy(),\n",
    "      extent=extent, vmin=0, vmax=1, cmap=\"viridis\")"
   ]
  },
  {
   "cell_type": "code",
   "execution_count": null,
   "id": "198fc335-965a-4767-be9e-3e68b36ef73d",
   "metadata": {
    "tags": []
   },
   "outputs": [],
   "source": [
    "frames_visual = examples[0]['cropped_frames_random']\n",
    "frames_visual = examples[0]['cropped_frames_max_nonzero']\n",
    "frames_visual = frames_visual[..., np.newaxis]\n",
    "print(frames_visual.shape)\n",
    "np.sum( frames_visual[0]> 0)"
   ]
  },
  {
   "cell_type": "code",
   "execution_count": null,
   "id": "ff67dffa-a43f-4d9b-97df-c66584233928",
   "metadata": {
    "tags": []
   },
   "outputs": [],
   "source": [
    "plot_radar_image(frames_visual[0, ..., 0])"
   ]
  },
  {
   "cell_type": "code",
   "execution_count": null,
   "id": "07ba531a-71ea-4085-983f-9453fa0dbe5b",
   "metadata": {
    "tags": []
   },
   "outputs": [],
   "source": [
    "plot_animation(frames_visual, vmax=75)"
   ]
  },
  {
   "cell_type": "code",
   "execution_count": null,
   "id": "3ac9b835-81ab-4379-ba98-a47e298c5c8c",
   "metadata": {
    "tags": []
   },
   "outputs": [],
   "source": [
    "example['cropped_frames_max_nonzero'].shape"
   ]
  },
  {
   "cell_type": "code",
   "execution_count": null,
   "id": "950671b3-16e9-49bf-a734-21818ffbe5ed",
   "metadata": {
    "tags": []
   },
   "outputs": [],
   "source": [
    "example['cropped_frames_max_nonzero'].dtype"
   ]
  },
  {
   "cell_type": "code",
   "execution_count": null,
   "id": "b56cdf3d-8564-4943-8505-a13ecd5793ab",
   "metadata": {
    "tags": []
   },
   "outputs": [],
   "source": [
    "len(example['cropped_frames_max_nonzero'].tobytes())"
   ]
  },
  {
   "cell_type": "code",
   "execution_count": null,
   "id": "88c80f3f-ce4d-4b94-bab5-ad7d37bf0e6b",
   "metadata": {
    "tags": []
   },
   "outputs": [],
   "source": [
    "import os\n",
    "from PIL import Image\n",
    "import json\n",
    "import random\n",
    "# import pickle\n",
    "import webdataset as wds\n",
    "import numpy as np\n",
    "\n",
    "from tqdm import tqdm\n",
    "\n",
    "import pandas as pd\n",
    "# pd.set_option('display.max_columns', None)\n",
    "# pd.set_option('display.max_colwidth', None)\n",
    "\n",
    "count = 0\n",
    "tar_id = 0\n",
    "num_per_tar = 10\n",
    "\n",
    "num_examples = len(examples) # 10 * num_per_tar\n",
    "# Create a WebDataset writer\n",
    "for i, example in tqdm(enumerate(examples[:num_examples]), total=num_examples):\n",
    "    \n",
    "    # Define the output dataset directory\n",
    "    if count == 0:\n",
    "        output_dir = f\"data/zuimei-radar-cropped/{tar_id:06d}.tar\"\n",
    "        writer = wds.TarWriter(output_dir)\n",
    "\n",
    "    sample = {\n",
    "        \"__key__\": f\"{i:08d}\",\n",
    "        \"cropped_frames_max_nonzero\": example['cropped_frames_max_nonzero'].tobytes(),\n",
    "        \"max_pos\": np.array(example['max_pos']).tobytes(),\n",
    "        \"cropped_frames_random\": example['cropped_frames_random'].tobytes(),\n",
    "        \"random_pos\": np.array(example['random_pos']).tobytes(),\n",
    "        \"start_time\": example['start_time'].encode(),\n",
    "    }\n",
    "\n",
    "    # Write the sample to the dataset\n",
    "    writer.write(sample)\n",
    "    count += 1\n",
    "    \n",
    "    if count == num_per_tar:\n",
    "        # Close the writer\n",
    "        writer.close()\n",
    "        count = 0\n",
    "        tar_id += 1\n",
    "\n",
    "if count < num_per_tar:\n",
    "    writer.close()"
   ]
  },
  {
   "cell_type": "code",
   "execution_count": null,
   "id": "7b9a3bc4-3046-4f69-8ff0-435215442fb8",
   "metadata": {
    "tags": []
   },
   "outputs": [],
   "source": [
    "## read zuimei precipitation data, .bin format\n",
    "\n",
    "# import bz2\n",
    "# import struct\n",
    "# import zipfile\n",
    "# import numpy as np\n",
    "# import os\n",
    "\n",
    "# def read_bin(path):\n",
    "#     with open(path, 'rb+') as f:\n",
    "#         bt = f.read()\n",
    "#         edge_s = struct.unpack('i', bt[124:128])[0] / 1000\n",
    "#         edge_w = struct.unpack('i', bt[128:132])[0] / 1000\n",
    "#         edge_n = struct.unpack('i', bt[132:136])[0] / 1000\n",
    "#         edge_e = struct.unpack('i', bt[136:140])[0] / 1000\n",
    "\n",
    "#         nX = struct.unpack('i', bt[148:152])[0]\n",
    "#         nY = struct.unpack('i', bt[152:156])[0]\n",
    "\n",
    "#         max_lon = edge_e  # max(lons)\n",
    "#         min_lon = edge_w  # min(lons)\n",
    "#         max_lat = edge_n  # max(lats)\n",
    "#         min_lat = edge_s  # min(lats)\n",
    "\n",
    "#         s = bz2.decompress(bt[256:])\n",
    "#         # print(len(s) / 2 / 4200)\n",
    "#         n = []\n",
    "#         for i in range(0, nY):\n",
    "#             inner = []\n",
    "#             for j in range(0, nX):\n",
    "#                 a = struct.unpack('h', s[((i * nX * 2) + j * 2):((i * nX * 2) + j * 2 + 2)])[0]\n",
    "#                 if a < 0:\n",
    "#                     a = 0\n",
    "#                 inner.append(a / 10.0)\n",
    "#             n.append(inner)\n",
    "\n",
    "#         return n"
   ]
  },
  {
   "cell_type": "markdown",
   "id": "25f7d10f-adbd-4436-b5b6-bb195b3bb975",
   "metadata": {},
   "source": [
    "# Test loading the stored frames"
   ]
  },
  {
   "cell_type": "code",
   "execution_count": null,
   "id": "683740af-c81d-4e5e-b80e-48a33652be3e",
   "metadata": {},
   "outputs": [],
   "source": [
    "import random\n",
    "import torch\n",
    "\n",
    "num_input = 4\n",
    "num_target = 18 \n",
    "\n",
    "def revert_back_numpy_array(byte_array, size=(24, 256, 256), dtype=np.float32):\n",
    "    # Load the flattened data from disk\n",
    "    flattened_data = bytearray(byte_array) \n",
    "\n",
    "    # Convert the bytearray to a numpy array\n",
    "    # flattened_array = np.asarray(flattened_data, dtype=np.float64)\n",
    "    flattened_array = np.frombuffer(flattened_data, dtype=np.float32)\n",
    "    print(f\"flattened_array: {flattened_array.shape}\")\n",
    "    # Reshape the flattened array to the original shape\n",
    "    original_shape = size\n",
    "    original_array = flattened_array.reshape(original_shape).astype(dtype)\n",
    "    \n",
    "    return original_array\n",
    "\n",
    "def collate_fn(examples):\n",
    "    \"\"\"\n",
    "       data: is a list of tuples with (example, label, length)\n",
    "             where 'example' is a tensor of arbitrary shape\n",
    "             and label/length are scalars\n",
    "    \"\"\"\n",
    "    # print(f\"data: {data[0]}, {type(data)}, {len(data)}\")\n",
    "    \n",
    "    inputs, targets = [], []\n",
    "    for i, example in enumerate(examples):\n",
    "        # cropped_frames_max_nonzero = np.asarray(bytearray(), dtype=\"float32\")\n",
    "        # print(f\"cropped_frames_max_nonzero: {cropped_frames_max_nonzero.shape}\")\n",
    "        cropped_frames_max_nonzero = revert_back_numpy_array(example[\"cropped_frames_max_nonzero\"], size=(24, 256, 256), dtype=np.float32)\n",
    "        # max_pos = np.asarray(bytearray(example[\"max_pos\"]), dtype=\"uint8\")\n",
    "        max_pos = revert_back_numpy_array(example[\"max_pos\"], size=(2), dtype=np.uint8)\n",
    "        \n",
    "        cropped_frames_random = revert_back_numpy_array(example[\"cropped_frames_random\"], size=(24, 256, 256), dtype=np.float32)\n",
    "        # cropped_frames_random = np.asarray(bytearray(example[\"cropped_frames_random\"]), dtype=\"float32\")\n",
    "        # random_pos = np.asarray(bytearray(example[\"random_pos\"]), dtype=\"uint8\")\n",
    "        random_pos = revert_back_numpy_array(example[\"random_pos\"], size=(2), dtype=np.uint8)\n",
    "        \n",
    "        if random.random() < 0.5:\n",
    "            input_frames = cropped_frames_max_nonzero[:num_input, ...]\n",
    "            target_frames = cropped_frames_max_nonzero[num_input:num_input+num_target, ...]\n",
    "        else:\n",
    "            input_frames = cropped_frames_random[:num_input, ...]\n",
    "            target_frames = cropped_frames_random[num_input:num_input+num_target, ...]\n",
    "                        \n",
    "        inputs.append(input_frames)\n",
    "        targets.append(target_frames)\n",
    "        \n",
    "    inputs_tensor = torch.Tensor(np.stack(inputs))\n",
    "    targets_tensor = torch.Tensor(np.stack(targets))\n",
    "    \n",
    "    return inputs_tensor, targets_tensor"
   ]
  },
  {
   "cell_type": "code",
   "execution_count": null,
   "id": "3eaa3a8f-2fb1-48e7-b111-4e4235976b50",
   "metadata": {
    "tags": []
   },
   "outputs": [],
   "source": [
    "from datasets import load_dataset\n",
    "\n",
    "data_dir = \"./data/zuimei-radar-cropped/\"\n",
    "\n",
    "train_dataset = load_dataset(\"webdataset\", \n",
    "                    data_files={\"train\": os.path.join(data_dir,\"*.tar\")}, \n",
    "                    split=\"train\", \n",
    "                    streaming=True)"
   ]
  },
  {
   "cell_type": "code",
   "execution_count": null,
   "id": "1063345f-8245-4b20-aeff-894141c99125",
   "metadata": {
    "tags": []
   },
   "outputs": [],
   "source": [
    "ex = next(iter(train_dataset))\n",
    "ex.keys"
   ]
  },
  {
   "cell_type": "code",
   "execution_count": null,
   "id": "503359d3-0f3d-4c8c-82cd-35898219fc43",
   "metadata": {
    "tags": []
   },
   "outputs": [],
   "source": [
    "for key in ex.keys():\n",
    "    print(key)"
   ]
  },
  {
   "cell_type": "code",
   "execution_count": null,
   "id": "9302a755-4aca-4695-80fe-fa3514478858",
   "metadata": {
    "tags": []
   },
   "outputs": [],
   "source": [
    "train_dataloader = torch.utils.data.DataLoader(\n",
    "        train_dataset,\n",
    "        shuffle=False,\n",
    "        collate_fn=collate_fn,\n",
    "        batch_size=1,\n",
    "        num_workers=1,\n",
    "    )"
   ]
  },
  {
   "cell_type": "code",
   "execution_count": null,
   "id": "99983436-e114-4f53-9254-70ce23b77047",
   "metadata": {
    "tags": []
   },
   "outputs": [],
   "source": [
    "for step, batch in enumerate(train_dataloader):\n",
    "    if step >= 1:\n",
    "        break\n",
    "    print(batch)"
   ]
  },
  {
   "cell_type": "code",
   "execution_count": null,
   "id": "54826d90-bdb1-46f0-b7f6-a86e268ee686",
   "metadata": {
    "tags": []
   },
   "outputs": [],
   "source": [
    "batch[0].shape"
   ]
  },
  {
   "cell_type": "code",
   "execution_count": null,
   "id": "4a2d0f69-f4c7-459c-a0b4-e5d451078b2e",
   "metadata": {
    "tags": []
   },
   "outputs": [],
   "source": [
    "batch[1].shape"
   ]
  },
  {
   "cell_type": "code",
   "execution_count": null,
   "id": "a2a5ef01-ecaf-43ba-b3b8-82659e861331",
   "metadata": {
    "tags": []
   },
   "outputs": [],
   "source": [
    "plot_radar_image(batch[1][0, 0, ...])"
   ]
  },
  {
   "cell_type": "code",
   "execution_count": null,
   "id": "9d426c66-5487-4e83-abd3-4847634ebd17",
   "metadata": {},
   "outputs": [],
   "source": []
  }
 ],
 "metadata": {
  "kernelspec": {
   "display_name": "conda_dgmr_py310",
   "language": "python",
   "name": "conda_dgmr_py310"
  },
  "language_info": {
   "codemirror_mode": {
    "name": "ipython",
    "version": 3
   },
   "file_extension": ".py",
   "mimetype": "text/x-python",
   "name": "python",
   "nbconvert_exporter": "python",
   "pygments_lexer": "ipython3",
   "version": "3.10.14"
  }
 },
 "nbformat": 4,
 "nbformat_minor": 5
}
